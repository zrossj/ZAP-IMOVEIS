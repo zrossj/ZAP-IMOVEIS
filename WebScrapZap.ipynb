{
 "cells": [
  {
   "cell_type": "code",
   "execution_count": 1,
   "metadata": {},
   "outputs": [
    {
     "name": "stdout",
     "output_type": "stream",
     "text": [
      "collection bronze already exists\n"
     ]
    }
   ],
   "source": [
    "from app.catalog_page_scraper import catalog_page_scraper\n",
    "from app.scrape_listed_re import scrape_listed_re\n",
    "from app.get_real_estate_atts import get_re_atts\n",
    "import app.update_mongodb as ud\n",
    "import logging \n",
    "\n",
    "log = logging.getLogger(__name__)\n",
    "logging.basicConfig(filename = './log.txt', level = logging.INFO)\n"
   ]
  },
  {
   "cell_type": "code",
   "execution_count": null,
   "metadata": {},
   "outputs": [],
   "source": []
  },
  {
   "cell_type": "code",
   "execution_count": 2,
   "metadata": {},
   "outputs": [
    {
     "name": "stdout",
     "output_type": "stream",
     "text": [
      "page num: 65, listings num: 37\n",
      "not found in data base - insert now\n",
      "not found in data base - insert now\n",
      "not found in data base - insert now\n",
      "not found in data base - insert now\n",
      "not found in data base - insert now\n",
      "not found in data base - insert now\n",
      "not found in data base - insert now\n",
      "not found in data base - insert now\n",
      "not found in data base - insert now\n",
      "not found in data base - insert now\n",
      "not found in data base - insert now\n",
      "not found in data base - insert now\n",
      "not found in data base - insert now\n",
      "not found in data base - insert now\n",
      "not found in data base - insert now\n",
      "not found in data base - insert now\n",
      "not found in data base - insert now\n",
      "not found in data base - insert now\n",
      "not found in data base - insert now\n",
      "not found in data base - insert now\n",
      "not found in data base - insert now\n",
      "not found in data base - insert now\n",
      "not found in data base - insert now\n",
      "not found in data base - insert now\n",
      "not found in data base - insert now\n",
      "not found in data base - insert now\n",
      "not found in data base - insert now\n",
      "not found in data base - insert now\n",
      "not found in data base - insert now\n",
      "not found in data base - insert now\n",
      "not found in data base - insert now\n",
      "not found in data base - insert now\n",
      "not found in data base - insert now\n",
      "not found in data base - insert now\n",
      "not found in data base - insert now\n",
      "not found in data base - insert now\n",
      "not found in data base - insert now\n",
      "page num: 66, listings num: 36\n",
      "not found in data base - insert now\n",
      "not found in data base - insert now\n",
      "not found in data base - insert now\n",
      "not found in data base - insert now\n",
      "not found in data base - insert now\n",
      "not found in data base - insert now\n",
      "not found in data base - insert now\n",
      "not found in data base - insert now\n",
      "not found in data base - insert now\n",
      "not found in data base - insert now\n",
      "not found in data base - insert now\n",
      "not found in data base - insert now\n",
      "not found in data base - insert now\n",
      "not found in data base - insert now\n",
      "not found in data base - insert now\n",
      "not found in data base - insert now\n",
      "not found in data base - insert now\n",
      "not found in data base - insert now\n",
      "not found in data base - insert now\n",
      "not found in data base - insert now\n",
      "not found in data base - insert now\n",
      "not found in data base - insert now\n",
      "not found in data base - insert now\n",
      "not found in data base - insert now\n",
      "not found in data base - insert now\n",
      "not found in data base - insert now\n",
      "not found in data base - insert now\n",
      "not found in data base - insert now\n",
      "not found in data base - insert now\n",
      "not found in data base - insert now\n",
      "not found in data base - insert now\n",
      "not found in data base - insert now\n",
      "not found in data base - insert now\n",
      "not found in data base - insert now\n",
      "not found in data base - insert now\n",
      "not found in data base - insert now\n"
     ]
    }
   ],
   "source": [
    "\n",
    "ids_scraped_current_session = []\n",
    "\n",
    "catalog = catalog_page_scraper(65, 66)\n",
    "\n",
    "  \n",
    "\n",
    "for page in catalog.keys():\n",
    "\n",
    "    listings = scrape_listed_re(catalog[page])\n",
    "    print(f'page num: {page}, listings num: {len(listings.keys())}')\n",
    "\n",
    "\n",
    "    for listing_id, listing_link in listings.items():\n",
    "        \n",
    "        if listing_id in ids_scraped_current_session: # in some cases the same listing will appear on different pages - so we need to skip that duplicated running; \n",
    "            \n",
    "            continue\n",
    "\n",
    "        else:\n",
    "\n",
    "            listing_atts = get_re_atts(listing_id, listing_link)\n",
    "\n",
    "            if type(listing_atts) == dict:\n",
    "                x = ud.update_mongodb(listing_atts)\n",
    "            else:\n",
    "                print(listing_atts)\n",
    "        \n",
    "\n",
    "        ids_scraped_current_session.append(listing_id)"
   ]
  },
  {
   "cell_type": "code",
   "execution_count": null,
   "metadata": {},
   "outputs": [],
   "source": [
    " "
   ]
  },
  {
   "cell_type": "code",
   "execution_count": null,
   "metadata": {},
   "outputs": [],
   "source": []
  }
 ],
 "metadata": {
  "application/vnd.databricks.v1+notebook": {
   "dashboards": [],
   "environmentMetadata": null,
   "language": "python",
   "notebookMetadata": {
    "pythonIndentUnit": 4
   },
   "notebookName": "web_scrap_zap",
   "widgets": {}
  },
  "kernelspec": {
   "display_name": "zap",
   "language": "python",
   "name": "python3"
  },
  "language_info": {
   "codemirror_mode": {
    "name": "ipython",
    "version": 3
   },
   "file_extension": ".py",
   "mimetype": "text/x-python",
   "name": "python",
   "nbconvert_exporter": "python",
   "pygments_lexer": "ipython3",
   "version": "3.10.0"
  }
 },
 "nbformat": 4,
 "nbformat_minor": 0
}
