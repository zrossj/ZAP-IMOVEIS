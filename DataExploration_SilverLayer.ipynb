{
 "cells": [
  {
   "cell_type": "markdown",
   "metadata": {},
   "source": [
    "### OVERALL LOOK AT THE DATASET AND SILVER LAYER"
   ]
  },
  {
   "cell_type": "code",
   "execution_count": 1,
   "metadata": {},
   "outputs": [],
   "source": [
    "import pandas as pd\n",
    "import numpy as np\n",
    "import pymongo\n",
    "import re\n",
    "from jproperties import Properties\n",
    "from sqlalchemy import create_engine, text\n",
    "from sqlalchemy import Numeric\n",
    "import subprocess\n",
    "\n",
    "\n",
    "# pandas settings\n",
    "pd.set_option('max.colwidth', 200)\n",
    "pd.set_option('display.max_rows', 50)"
   ]
  },
  {
   "cell_type": "code",
   "execution_count": 2,
   "metadata": {},
   "outputs": [],
   "source": [
    "# loading variables from file (db access)\n",
    "\n",
    "with open(\"app.properties\", \"r+b\") as f:\n",
    "    p = Properties()\n",
    "    p.load(f, \"utf-8\")"
   ]
  },
  {
   "cell_type": "markdown",
   "metadata": {},
   "source": [
    "### MongoDB Acess (Data Source)"
   ]
  },
  {
   "cell_type": "code",
   "execution_count": 3,
   "metadata": {},
   "outputs": [],
   "source": [
    "\n",
    "client = pymongo.MongoClient()\n",
    "db = client.get_database('zap_imoveis')\n",
    "bronze_layer = db.get_collection('bronze')"
   ]
  },
  {
   "cell_type": "code",
   "execution_count": 4,
   "metadata": {},
   "outputs": [
    {
     "name": "stdout",
     "output_type": "stream",
     "text": [
      "Number of data records in the database: 20735\n"
     ]
    }
   ],
   "source": [
    "print(f'Number of data records in the database: {bronze_layer.count_documents({})}')"
   ]
  },
  {
   "cell_type": "markdown",
   "metadata": {},
   "source": [
    "### Creating a DataFrame\n"
   ]
  },
  {
   "cell_type": "code",
   "execution_count": null,
   "metadata": {},
   "outputs": [],
   "source": []
  },
  {
   "cell_type": "code",
   "execution_count": 5,
   "metadata": {},
   "outputs": [],
   "source": [
    "\n",
    "df = pd.DataFrame(list(bronze_layer.find({})))\n",
    "\n",
    "assert df[df['data-id'].duplicated()]['data-id'].sum() == 0, 'We have duplicated ids (data-id) in the DB'"
   ]
  },
  {
   "cell_type": "code",
   "execution_count": 6,
   "metadata": {},
   "outputs": [
    {
     "data": {
      "text/html": [
       "<div>\n",
       "<style scoped>\n",
       "    .dataframe tbody tr th:only-of-type {\n",
       "        vertical-align: middle;\n",
       "    }\n",
       "\n",
       "    .dataframe tbody tr th {\n",
       "        vertical-align: top;\n",
       "    }\n",
       "\n",
       "    .dataframe thead th {\n",
       "        text-align: right;\n",
       "    }\n",
       "</style>\n",
       "<table border=\"1\" class=\"dataframe\">\n",
       "  <thead>\n",
       "    <tr style=\"text-align: right;\">\n",
       "      <th></th>\n",
       "      <th>_id</th>\n",
       "      <th>link</th>\n",
       "      <th>data-id</th>\n",
       "      <th>atts</th>\n",
       "      <th>date</th>\n",
       "    </tr>\n",
       "  </thead>\n",
       "  <tbody>\n",
       "    <tr>\n",
       "      <th>0</th>\n",
       "      <td>67a344c52b111f021af8a118</td>\n",
       "      <td>https://www.zapimoveis.com.br/imovel/aluguel-apartamento-2-quartos-com-piscina-saude-zona-sul-sao-paulo-sp-112m2-id-2774950239/</td>\n",
       "      <td>2774950239</td>\n",
       "      <td>{'ad_type': 'Aluguel', 'sell_price': None, 'rent_price': 'R$ 5.000/mês', 'condo_price': 'R$ 970', 'address': 'Rua Doutor Samuel Porto, 237 - Saúde, São Paulo - SP', 'rstate_type': 'Apartamentos pa...</td>\n",
       "      <td>20250224</td>\n",
       "    </tr>\n",
       "    <tr>\n",
       "      <th>1</th>\n",
       "      <td>67a344cc2b111f021af8a119</td>\n",
       "      <td>https://www.zapimoveis.com.br/imovel/aluguel-apartamento-1-quarto-com-piscina-cambuci-zona-sul-sao-paulo-sp-37m2-id-2733414161/</td>\n",
       "      <td>2733414161</td>\n",
       "      <td>{'ad_type': 'Aluguel', 'sell_price': None, 'rent_price': 'R$ 2.400/mês', 'condo_price': 'R$ 980', 'address': 'Rua Backer, 338 - Cambuci, São Paulo - SP', 'rstate_type': 'Apartamentos para Alugar/'...</td>\n",
       "      <td>20250224</td>\n",
       "    </tr>\n",
       "  </tbody>\n",
       "</table>\n",
       "</div>"
      ],
      "text/plain": [
       "                        _id  \\\n",
       "0  67a344c52b111f021af8a118   \n",
       "1  67a344cc2b111f021af8a119   \n",
       "\n",
       "                                                                                                                              link  \\\n",
       "0  https://www.zapimoveis.com.br/imovel/aluguel-apartamento-2-quartos-com-piscina-saude-zona-sul-sao-paulo-sp-112m2-id-2774950239/   \n",
       "1  https://www.zapimoveis.com.br/imovel/aluguel-apartamento-1-quarto-com-piscina-cambuci-zona-sul-sao-paulo-sp-37m2-id-2733414161/   \n",
       "\n",
       "      data-id  \\\n",
       "0  2774950239   \n",
       "1  2733414161   \n",
       "\n",
       "                                                                                                                                                                                                      atts  \\\n",
       "0  {'ad_type': 'Aluguel', 'sell_price': None, 'rent_price': 'R$ 5.000/mês', 'condo_price': 'R$ 970', 'address': 'Rua Doutor Samuel Porto, 237 - Saúde, São Paulo - SP', 'rstate_type': 'Apartamentos pa...   \n",
       "1  {'ad_type': 'Aluguel', 'sell_price': None, 'rent_price': 'R$ 2.400/mês', 'condo_price': 'R$ 980', 'address': 'Rua Backer, 338 - Cambuci, São Paulo - SP', 'rstate_type': 'Apartamentos para Alugar/'...   \n",
       "\n",
       "       date  \n",
       "0  20250224  \n",
       "1  20250224  "
      ]
     },
     "execution_count": 6,
     "metadata": {},
     "output_type": "execute_result"
    }
   ],
   "source": [
    "df.head(2)"
   ]
  },
  {
   "cell_type": "markdown",
   "metadata": {},
   "source": [
    "### Getting Only The Attributes  "
   ]
  },
  {
   "cell_type": "code",
   "execution_count": null,
   "metadata": {},
   "outputs": [],
   "source": []
  },
  {
   "cell_type": "code",
   "execution_count": 7,
   "metadata": {},
   "outputs": [
    {
     "data": {
      "text/html": [
       "<div>\n",
       "<style scoped>\n",
       "    .dataframe tbody tr th:only-of-type {\n",
       "        vertical-align: middle;\n",
       "    }\n",
       "\n",
       "    .dataframe tbody tr th {\n",
       "        vertical-align: top;\n",
       "    }\n",
       "\n",
       "    .dataframe thead th {\n",
       "        text-align: right;\n",
       "    }\n",
       "</style>\n",
       "<table border=\"1\" class=\"dataframe\">\n",
       "  <thead>\n",
       "    <tr style=\"text-align: right;\">\n",
       "      <th></th>\n",
       "      <th>data-id</th>\n",
       "      <th>link</th>\n",
       "      <th>ad_type</th>\n",
       "      <th>sell_price</th>\n",
       "      <th>rent_price</th>\n",
       "      <th>condo_price</th>\n",
       "      <th>address</th>\n",
       "      <th>rstate_type</th>\n",
       "      <th>floorSize</th>\n",
       "      <th>numberOfRooms</th>\n",
       "      <th>...</th>\n",
       "      <th>BEAUTY_ROOM</th>\n",
       "      <th>VINYL_FLOOR</th>\n",
       "      <th>DRESS_ROOM</th>\n",
       "      <th>CORRAL</th>\n",
       "      <th>DRYWALL</th>\n",
       "      <th>GOLF_FIELD</th>\n",
       "      <th>SMART_CONDOMINIUM</th>\n",
       "      <th>ECO_CONDOMINIUM</th>\n",
       "      <th>DIVIDERS</th>\n",
       "      <th>CARPET</th>\n",
       "    </tr>\n",
       "  </thead>\n",
       "  <tbody>\n",
       "    <tr>\n",
       "      <th>0</th>\n",
       "      <td>2774950239</td>\n",
       "      <td>https://www.zapimoveis.com.br/imovel/aluguel-apartamento-2-quartos-com-piscina-saude-zona-sul-sao-paulo-sp-112m2-id-2774950239/</td>\n",
       "      <td>Aluguel</td>\n",
       "      <td>None</td>\n",
       "      <td>R$ 5.000/mês</td>\n",
       "      <td>R$ 970</td>\n",
       "      <td>Rua Doutor Samuel Porto, 237 - Saúde, São Paulo - SP</td>\n",
       "      <td>Apartamentos para Alugar/</td>\n",
       "      <td>112 m²</td>\n",
       "      <td>2 quartos</td>\n",
       "      <td>...</td>\n",
       "      <td>NaN</td>\n",
       "      <td>NaN</td>\n",
       "      <td>NaN</td>\n",
       "      <td>NaN</td>\n",
       "      <td>NaN</td>\n",
       "      <td>NaN</td>\n",
       "      <td>NaN</td>\n",
       "      <td>NaN</td>\n",
       "      <td>NaN</td>\n",
       "      <td>NaN</td>\n",
       "    </tr>\n",
       "    <tr>\n",
       "      <th>1</th>\n",
       "      <td>2733414161</td>\n",
       "      <td>https://www.zapimoveis.com.br/imovel/aluguel-apartamento-1-quarto-com-piscina-cambuci-zona-sul-sao-paulo-sp-37m2-id-2733414161/</td>\n",
       "      <td>Aluguel</td>\n",
       "      <td>None</td>\n",
       "      <td>R$ 2.400/mês</td>\n",
       "      <td>R$ 980</td>\n",
       "      <td>Rua Backer, 338 - Cambuci, São Paulo - SP</td>\n",
       "      <td>Apartamentos para Alugar/</td>\n",
       "      <td>37 m²</td>\n",
       "      <td>1 quarto</td>\n",
       "      <td>...</td>\n",
       "      <td>NaN</td>\n",
       "      <td>NaN</td>\n",
       "      <td>NaN</td>\n",
       "      <td>NaN</td>\n",
       "      <td>NaN</td>\n",
       "      <td>NaN</td>\n",
       "      <td>NaN</td>\n",
       "      <td>NaN</td>\n",
       "      <td>NaN</td>\n",
       "      <td>NaN</td>\n",
       "    </tr>\n",
       "  </tbody>\n",
       "</table>\n",
       "<p>2 rows × 195 columns</p>\n",
       "</div>"
      ],
      "text/plain": [
       "      data-id  \\\n",
       "0  2774950239   \n",
       "1  2733414161   \n",
       "\n",
       "                                                                                                                              link  \\\n",
       "0  https://www.zapimoveis.com.br/imovel/aluguel-apartamento-2-quartos-com-piscina-saude-zona-sul-sao-paulo-sp-112m2-id-2774950239/   \n",
       "1  https://www.zapimoveis.com.br/imovel/aluguel-apartamento-1-quarto-com-piscina-cambuci-zona-sul-sao-paulo-sp-37m2-id-2733414161/   \n",
       "\n",
       "   ad_type sell_price    rent_price condo_price  \\\n",
       "0  Aluguel       None  R$ 5.000/mês      R$ 970   \n",
       "1  Aluguel       None  R$ 2.400/mês      R$ 980   \n",
       "\n",
       "                                                address  \\\n",
       "0  Rua Doutor Samuel Porto, 237 - Saúde, São Paulo - SP   \n",
       "1             Rua Backer, 338 - Cambuci, São Paulo - SP   \n",
       "\n",
       "                 rstate_type floorSize numberOfRooms  ... BEAUTY_ROOM  \\\n",
       "0  Apartamentos para Alugar/   112 m²      2 quartos  ...         NaN   \n",
       "1  Apartamentos para Alugar/    37 m²       1 quarto  ...         NaN   \n",
       "\n",
       "  VINYL_FLOOR DRESS_ROOM CORRAL DRYWALL GOLF_FIELD SMART_CONDOMINIUM  \\\n",
       "0         NaN        NaN    NaN     NaN        NaN               NaN   \n",
       "1         NaN        NaN    NaN     NaN        NaN               NaN   \n",
       "\n",
       "  ECO_CONDOMINIUM DIVIDERS CARPET  \n",
       "0             NaN      NaN    NaN  \n",
       "1             NaN      NaN    NaN  \n",
       "\n",
       "[2 rows x 195 columns]"
      ]
     },
     "execution_count": 7,
     "metadata": {},
     "output_type": "execute_result"
    }
   ],
   "source": [
    "df_atts =  pd.concat(\n",
    "        [df[['data-id','link']], pd.json_normalize(df['atts'])],\n",
    "        axis = 1\n",
    ")\n",
    "\n",
    "df_atts.head(2)"
   ]
  },
  {
   "cell_type": "code",
   "execution_count": 8,
   "metadata": {},
   "outputs": [
    {
     "name": "stdout",
     "output_type": "stream",
     "text": [
      "['Apartamentos para Alugar/' 'Flats para Alugar/' 'Imóveis para Alugar/'\n",
      " 'Casas para Alugar/' 'Apartamentos à Venda/' 'Coberturas à Venda/'\n",
      " 'Sobrados à Venda/' 'Casas de Condomínio para Alugar/'\n",
      " 'Sobrados para Alugar/' 'Studios para Alugar/'\n",
      " 'Casas de Condomínio à Venda/' 'Coberturas para Alugar/' 'Casas à Venda/'\n",
      " 'Casas de Vila à Venda/' 'Kitnets para Alugar/' 'Flats à Venda/'\n",
      " 'Studios à Venda/' 'Casas de Vila para Alugar/' 'Lofts para Alugar/'\n",
      " 'Imóveis à Venda/' 'Fazendas, Sítios e Chácaras para Alugar/'\n",
      " 'Fazendas, Sítios e Chácaras à Venda/' 'Lofts à Venda/']\n"
     ]
    }
   ],
   "source": [
    "## removing comercial as we are not interested for this analysis;\n",
    "\n",
    "df_atts = df_atts[~df_atts.rstate_type.apply(lambda x: True if re.search('Comerciais', str(x)) else False)]\n",
    "print(df_atts.rstate_type.unique())"
   ]
  },
  {
   "cell_type": "markdown",
   "metadata": {},
   "source": [
    "### Selecting Columns Of Interest"
   ]
  },
  {
   "cell_type": "code",
   "execution_count": 9,
   "metadata": {},
   "outputs": [],
   "source": [
    "# for _ in df_atts.columns:\n",
    "#      print(_)\n",
    "\n",
    "cols_of_interest = [\n",
    "    'data-id',\n",
    "    'ad_type', 'rstate_type',\n",
    "    'rent_price', 'condo_price', 'sell_price',\n",
    "    'address', 'floorSize', 'numberOfBathroomsTotal',\n",
    "    'numberOfParkingSpaces',\n",
    "    'numberOfRooms',\n",
    "    'numberOfSuites',\n",
    "    'FURNISHED',\n",
    "    'AIR_CONDITIONING',\n",
    "    'HOME_OFFICE',\n",
    "    'POOL',\n",
    "    'GYM',\n",
    "    'SAUNA',\n",
    "    'LAUNDRY',\n",
    "    'COWORKING',\n",
    "    'link'\n",
    "    ]\n",
    "\n",
    "# keep only the cols that exist in the dataset; \n",
    "\n",
    "cols_of_interest = [x for x in cols_of_interest if x in df_atts.columns]\n",
    "\n",
    "# change the df\n",
    "df_atts = df_atts[cols_of_interest]\n"
   ]
  },
  {
   "cell_type": "markdown",
   "metadata": {},
   "source": [
    "### % of NaN Values"
   ]
  },
  {
   "cell_type": "code",
   "execution_count": 10,
   "metadata": {},
   "outputs": [
    {
     "data": {
      "text/plain": [
       "COWORKING                 99.276132\n",
       "SAUNA                     90.975775\n",
       "HOME_OFFICE               89.711418\n",
       "GYM                       88.369848\n",
       "LAUNDRY                   87.742496\n",
       "FURNISHED                 83.640575\n",
       "AIR_CONDITIONING          80.055014\n",
       "POOL                      72.652254\n",
       "sell_price                67.068816\n",
       "numberOfSuites            19.327285\n",
       "numberOfParkingSpaces      6.770582\n",
       "numberOfRooms              0.357108\n",
       "rent_price                 0.086864\n",
       "numberOfBathroomsTotal     0.009652\n",
       "rstate_type                0.000000\n",
       "ad_type                    0.000000\n",
       "data-id                    0.000000\n",
       "condo_price                0.000000\n",
       "floorSize                  0.000000\n",
       "address                    0.000000\n",
       "link                       0.000000\n",
       "dtype: float64"
      ]
     },
     "execution_count": 10,
     "metadata": {},
     "output_type": "execute_result"
    }
   ],
   "source": [
    "missing = df_atts.isna().sum()\n",
    "missing = missing/df_atts.shape[0] * 100\n",
    "missing.sort_values(ascending=False)\n",
    "\n",
    "## comments; \n",
    "# the null values on the ameneties represents the absence of such elements like GYM or LAUNDRY.\n",
    "# for others that are mandatory (like at least sell or rent price and size), its more likely to be an error that occurred when web scraping. "
   ]
  },
  {
   "cell_type": "code",
   "execution_count": 11,
   "metadata": {},
   "outputs": [
    {
     "data": {
      "text/html": [
       "<div>\n",
       "<style scoped>\n",
       "    .dataframe tbody tr th:only-of-type {\n",
       "        vertical-align: middle;\n",
       "    }\n",
       "\n",
       "    .dataframe tbody tr th {\n",
       "        vertical-align: top;\n",
       "    }\n",
       "\n",
       "    .dataframe thead th {\n",
       "        text-align: right;\n",
       "    }\n",
       "</style>\n",
       "<table border=\"1\" class=\"dataframe\">\n",
       "  <thead>\n",
       "    <tr style=\"text-align: right;\">\n",
       "      <th></th>\n",
       "      <th>data-id</th>\n",
       "      <th>ad_type</th>\n",
       "      <th>rstate_type</th>\n",
       "      <th>rent_price</th>\n",
       "      <th>condo_price</th>\n",
       "      <th>sell_price</th>\n",
       "      <th>address</th>\n",
       "      <th>floorSize</th>\n",
       "      <th>numberOfBathroomsTotal</th>\n",
       "      <th>numberOfParkingSpaces</th>\n",
       "      <th>...</th>\n",
       "      <th>numberOfSuites</th>\n",
       "      <th>FURNISHED</th>\n",
       "      <th>AIR_CONDITIONING</th>\n",
       "      <th>HOME_OFFICE</th>\n",
       "      <th>POOL</th>\n",
       "      <th>GYM</th>\n",
       "      <th>SAUNA</th>\n",
       "      <th>LAUNDRY</th>\n",
       "      <th>COWORKING</th>\n",
       "      <th>link</th>\n",
       "    </tr>\n",
       "  </thead>\n",
       "  <tbody>\n",
       "    <tr>\n",
       "      <th>627</th>\n",
       "      <td>2732561794</td>\n",
       "      <td>Aluguel</td>\n",
       "      <td>Casas para Alugar/</td>\n",
       "      <td>R$ 7.100/mês</td>\n",
       "      <td>não informado</td>\n",
       "      <td>None</td>\n",
       "      <td>Rua Amaro Guerra, 781 - Vila São Francisco Zona Sul, São Paulo - SP</td>\n",
       "      <td>180 m²</td>\n",
       "      <td>3 banheiros</td>\n",
       "      <td>8 vagas</td>\n",
       "      <td>...</td>\n",
       "      <td>NaN</td>\n",
       "      <td>NaN</td>\n",
       "      <td>NaN</td>\n",
       "      <td>NaN</td>\n",
       "      <td>NaN</td>\n",
       "      <td>NaN</td>\n",
       "      <td>NaN</td>\n",
       "      <td>NaN</td>\n",
       "      <td>NaN</td>\n",
       "      <td>https://www.zapimoveis.com.br/imovel/aluguel-casa-vila-sao-francisco-zona-sul-sao-paulo-180m2-id-2732561794/</td>\n",
       "    </tr>\n",
       "    <tr>\n",
       "      <th>655</th>\n",
       "      <td>2774886476</td>\n",
       "      <td>Aluguel</td>\n",
       "      <td>Casas para Alugar/</td>\n",
       "      <td>R$ 14.000/mês</td>\n",
       "      <td>isento</td>\n",
       "      <td>None</td>\n",
       "      <td>Rua Euclides Pacheco, 350 - Tatuapé, São Paulo - SP</td>\n",
       "      <td>500 m²</td>\n",
       "      <td>7 banheiros</td>\n",
       "      <td>NaN</td>\n",
       "      <td>...</td>\n",
       "      <td>NaN</td>\n",
       "      <td>NaN</td>\n",
       "      <td>NaN</td>\n",
       "      <td>NaN</td>\n",
       "      <td>NaN</td>\n",
       "      <td>NaN</td>\n",
       "      <td>NaN</td>\n",
       "      <td>NaN</td>\n",
       "      <td>NaN</td>\n",
       "      <td>https://www.zapimoveis.com.br/imovel/aluguel-casa-vila-gomes-cardim-sao-paulo-500m2-id-2774886476/</td>\n",
       "    </tr>\n",
       "    <tr>\n",
       "      <th>755</th>\n",
       "      <td>2763884729</td>\n",
       "      <td>Aluguel</td>\n",
       "      <td>Casas para Alugar/</td>\n",
       "      <td>R$ 12.500/mês</td>\n",
       "      <td>não informado</td>\n",
       "      <td>None</td>\n",
       "      <td>Rua Doutor José Gustavo Bush, 350 - Panamby, São Paulo - SP</td>\n",
       "      <td>200 m²</td>\n",
       "      <td>6 banheiros</td>\n",
       "      <td>4 vagas</td>\n",
       "      <td>...</td>\n",
       "      <td>NaN</td>\n",
       "      <td>NaN</td>\n",
       "      <td>NaN</td>\n",
       "      <td>NaN</td>\n",
       "      <td>NaN</td>\n",
       "      <td>NaN</td>\n",
       "      <td>NaN</td>\n",
       "      <td>NaN</td>\n",
       "      <td>NaN</td>\n",
       "      <td>https://www.zapimoveis.com.br/imovel/aluguel-casa-paraiso-do-morumbi-sao-paulo-200m2-id-2763884729/</td>\n",
       "    </tr>\n",
       "    <tr>\n",
       "      <th>1738</th>\n",
       "      <td>2727319668</td>\n",
       "      <td>Aluguel</td>\n",
       "      <td>Casas para Alugar/</td>\n",
       "      <td>R$ 5.800/mês</td>\n",
       "      <td>não informado</td>\n",
       "      <td>None</td>\n",
       "      <td>Rua Monte Serrat, 941 - Tatuapé, São Paulo - SP</td>\n",
       "      <td>120 m²</td>\n",
       "      <td>2 banheiros</td>\n",
       "      <td>1 vaga</td>\n",
       "      <td>...</td>\n",
       "      <td>NaN</td>\n",
       "      <td>NaN</td>\n",
       "      <td>NaN</td>\n",
       "      <td>NaN</td>\n",
       "      <td>NaN</td>\n",
       "      <td>NaN</td>\n",
       "      <td>NaN</td>\n",
       "      <td>NaN</td>\n",
       "      <td>NaN</td>\n",
       "      <td>https://www.zapimoveis.com.br/imovel/aluguel-casa-com-area-de-servico-tatuape-sao-paulo-120m2-id-2727319668/</td>\n",
       "    </tr>\n",
       "    <tr>\n",
       "      <th>2332</th>\n",
       "      <td>2777283759</td>\n",
       "      <td>Venda</td>\n",
       "      <td>Casas à Venda/</td>\n",
       "      <td>R$ 24.000/mês</td>\n",
       "      <td>isento</td>\n",
       "      <td>R$ 4.500.000</td>\n",
       "      <td>Alameda Joaquim Eugênio de Lima, 1489 - Jardim Paulista, São Paulo - SP</td>\n",
       "      <td>375 m²</td>\n",
       "      <td>4 banheiros</td>\n",
       "      <td>6 vagas</td>\n",
       "      <td>...</td>\n",
       "      <td>NaN</td>\n",
       "      <td>NaN</td>\n",
       "      <td>NaN</td>\n",
       "      <td>NaN</td>\n",
       "      <td>NaN</td>\n",
       "      <td>NaN</td>\n",
       "      <td>NaN</td>\n",
       "      <td>NaN</td>\n",
       "      <td>NaN</td>\n",
       "      <td>https://www.zapimoveis.com.br/imovel/venda-casa-jardim-paulista-sao-paulo-375m2-id-2777283759/</td>\n",
       "    </tr>\n",
       "    <tr>\n",
       "      <th>...</th>\n",
       "      <td>...</td>\n",
       "      <td>...</td>\n",
       "      <td>...</td>\n",
       "      <td>...</td>\n",
       "      <td>...</td>\n",
       "      <td>...</td>\n",
       "      <td>...</td>\n",
       "      <td>...</td>\n",
       "      <td>...</td>\n",
       "      <td>...</td>\n",
       "      <td>...</td>\n",
       "      <td>...</td>\n",
       "      <td>...</td>\n",
       "      <td>...</td>\n",
       "      <td>...</td>\n",
       "      <td>...</td>\n",
       "      <td>...</td>\n",
       "      <td>...</td>\n",
       "      <td>...</td>\n",
       "      <td>...</td>\n",
       "      <td>...</td>\n",
       "    </tr>\n",
       "    <tr>\n",
       "      <th>19204</th>\n",
       "      <td>2775826735</td>\n",
       "      <td>Aluguel</td>\n",
       "      <td>Casas para Alugar/</td>\n",
       "      <td>R$ 12.000/mês</td>\n",
       "      <td>R$ 1</td>\n",
       "      <td>None</td>\n",
       "      <td>Avenida Santa Catarina - Vila Mascote, São Paulo - SP</td>\n",
       "      <td>300 m²</td>\n",
       "      <td>2 banheiros</td>\n",
       "      <td>2 vagas</td>\n",
       "      <td>...</td>\n",
       "      <td>NaN</td>\n",
       "      <td>NaN</td>\n",
       "      <td>NaN</td>\n",
       "      <td>NaN</td>\n",
       "      <td>NaN</td>\n",
       "      <td>NaN</td>\n",
       "      <td>NaN</td>\n",
       "      <td>NaN</td>\n",
       "      <td>NaN</td>\n",
       "      <td>https://www.zapimoveis.com.br/imovel/aluguel-casa-com-administracao-vila-mascote-sao-paulo-300m2-id-2775826735/</td>\n",
       "    </tr>\n",
       "    <tr>\n",
       "      <th>19660</th>\n",
       "      <td>2734867234</td>\n",
       "      <td>Aluguel</td>\n",
       "      <td>Casas para Alugar/</td>\n",
       "      <td>R$ 9.000/mês</td>\n",
       "      <td>R$ 1</td>\n",
       "      <td>None</td>\n",
       "      <td>Rua Padre Carvalho - Pinheiros, São Paulo - SP</td>\n",
       "      <td>90 m²</td>\n",
       "      <td>2 banheiros</td>\n",
       "      <td>NaN</td>\n",
       "      <td>...</td>\n",
       "      <td>NaN</td>\n",
       "      <td>NaN</td>\n",
       "      <td>NaN</td>\n",
       "      <td>NaN</td>\n",
       "      <td>NaN</td>\n",
       "      <td>NaN</td>\n",
       "      <td>NaN</td>\n",
       "      <td>NaN</td>\n",
       "      <td>NaN</td>\n",
       "      <td>https://www.zapimoveis.com.br/imovel/aluguel-casa-pinheiros-sao-paulo-90m2-id-2734867234/</td>\n",
       "    </tr>\n",
       "    <tr>\n",
       "      <th>19696</th>\n",
       "      <td>2748077358</td>\n",
       "      <td>Aluguel</td>\n",
       "      <td>Casas para Alugar/</td>\n",
       "      <td>R$ 7.500/mês</td>\n",
       "      <td>isento</td>\n",
       "      <td>None</td>\n",
       "      <td>Rua Apucarana, 474 - Tatuapé, São Paulo - SP</td>\n",
       "      <td>176 m²</td>\n",
       "      <td>2 banheiros</td>\n",
       "      <td>NaN</td>\n",
       "      <td>...</td>\n",
       "      <td>NaN</td>\n",
       "      <td>NaN</td>\n",
       "      <td>NaN</td>\n",
       "      <td>NaN</td>\n",
       "      <td>NaN</td>\n",
       "      <td>NaN</td>\n",
       "      <td>NaN</td>\n",
       "      <td>NaN</td>\n",
       "      <td>NaN</td>\n",
       "      <td>https://www.zapimoveis.com.br/imovel/aluguel-casa-com-cozinha-tatuape-sao-paulo-176m2-id-2748077358/</td>\n",
       "    </tr>\n",
       "    <tr>\n",
       "      <th>20377</th>\n",
       "      <td>2775827023</td>\n",
       "      <td>Aluguel</td>\n",
       "      <td>Casas para Alugar/</td>\n",
       "      <td>R$ 6.000/mês</td>\n",
       "      <td>R$ 1</td>\n",
       "      <td>None</td>\n",
       "      <td>Rua Francisco Cruz - Vila Mariana, São Paulo - SP</td>\n",
       "      <td>169 m²</td>\n",
       "      <td>1 banheiro</td>\n",
       "      <td>1 vaga</td>\n",
       "      <td>...</td>\n",
       "      <td>NaN</td>\n",
       "      <td>NaN</td>\n",
       "      <td>NaN</td>\n",
       "      <td>NaN</td>\n",
       "      <td>NaN</td>\n",
       "      <td>NaN</td>\n",
       "      <td>NaN</td>\n",
       "      <td>NaN</td>\n",
       "      <td>NaN</td>\n",
       "      <td>https://www.zapimoveis.com.br/imovel/aluguel-casa-com-administracao-vila-mariana-sao-paulo-169m2-id-2775827023/</td>\n",
       "    </tr>\n",
       "    <tr>\n",
       "      <th>20619</th>\n",
       "      <td>2784232825</td>\n",
       "      <td>Aluguel</td>\n",
       "      <td>Sobrados para Alugar/</td>\n",
       "      <td>R$ 12.000/mês</td>\n",
       "      <td>não informado</td>\n",
       "      <td>None</td>\n",
       "      <td>Pinheiros, São Paulo - SP</td>\n",
       "      <td>230 m²</td>\n",
       "      <td>4 banheiros</td>\n",
       "      <td>4 vagas</td>\n",
       "      <td>...</td>\n",
       "      <td>NaN</td>\n",
       "      <td>NaN</td>\n",
       "      <td>NaN</td>\n",
       "      <td>NaN</td>\n",
       "      <td>NaN</td>\n",
       "      <td>NaN</td>\n",
       "      <td>NaN</td>\n",
       "      <td>NaN</td>\n",
       "      <td>NaN</td>\n",
       "      <td>https://www.zapimoveis.com.br/imovel/aluguel-sobrados-pinheiros-sao-paulo-230m2-id-2784232825/</td>\n",
       "    </tr>\n",
       "  </tbody>\n",
       "</table>\n",
       "<p>74 rows × 21 columns</p>\n",
       "</div>"
      ],
      "text/plain": [
       "          data-id  ad_type            rstate_type     rent_price  \\\n",
       "627    2732561794  Aluguel     Casas para Alugar/   R$ 7.100/mês   \n",
       "655    2774886476  Aluguel     Casas para Alugar/  R$ 14.000/mês   \n",
       "755    2763884729  Aluguel     Casas para Alugar/  R$ 12.500/mês   \n",
       "1738   2727319668  Aluguel     Casas para Alugar/   R$ 5.800/mês   \n",
       "2332   2777283759    Venda         Casas à Venda/  R$ 24.000/mês   \n",
       "...           ...      ...                    ...            ...   \n",
       "19204  2775826735  Aluguel     Casas para Alugar/  R$ 12.000/mês   \n",
       "19660  2734867234  Aluguel     Casas para Alugar/   R$ 9.000/mês   \n",
       "19696  2748077358  Aluguel     Casas para Alugar/   R$ 7.500/mês   \n",
       "20377  2775827023  Aluguel     Casas para Alugar/   R$ 6.000/mês   \n",
       "20619  2784232825  Aluguel  Sobrados para Alugar/  R$ 12.000/mês   \n",
       "\n",
       "         condo_price    sell_price  \\\n",
       "627    não informado          None   \n",
       "655           isento          None   \n",
       "755    não informado          None   \n",
       "1738   não informado          None   \n",
       "2332          isento  R$ 4.500.000   \n",
       "...              ...           ...   \n",
       "19204           R$ 1          None   \n",
       "19660           R$ 1          None   \n",
       "19696         isento          None   \n",
       "20377           R$ 1          None   \n",
       "20619  não informado          None   \n",
       "\n",
       "                                                                       address  \\\n",
       "627        Rua Amaro Guerra, 781 - Vila São Francisco Zona Sul, São Paulo - SP   \n",
       "655                        Rua Euclides Pacheco, 350 - Tatuapé, São Paulo - SP   \n",
       "755                Rua Doutor José Gustavo Bush, 350 - Panamby, São Paulo - SP   \n",
       "1738                           Rua Monte Serrat, 941 - Tatuapé, São Paulo - SP   \n",
       "2332   Alameda Joaquim Eugênio de Lima, 1489 - Jardim Paulista, São Paulo - SP   \n",
       "...                                                                        ...   \n",
       "19204                    Avenida Santa Catarina - Vila Mascote, São Paulo - SP   \n",
       "19660                           Rua Padre Carvalho - Pinheiros, São Paulo - SP   \n",
       "19696                             Rua Apucarana, 474 - Tatuapé, São Paulo - SP   \n",
       "20377                        Rua Francisco Cruz - Vila Mariana, São Paulo - SP   \n",
       "20619                                                Pinheiros, São Paulo - SP   \n",
       "\n",
       "      floorSize numberOfBathroomsTotal numberOfParkingSpaces  ...  \\\n",
       "627     180 m²             3 banheiros               8 vagas  ...   \n",
       "655     500 m²             7 banheiros                   NaN  ...   \n",
       "755     200 m²             6 banheiros               4 vagas  ...   \n",
       "1738    120 m²             2 banheiros                1 vaga  ...   \n",
       "2332    375 m²             4 banheiros               6 vagas  ...   \n",
       "...         ...                    ...                   ...  ...   \n",
       "19204   300 m²             2 banheiros               2 vagas  ...   \n",
       "19660    90 m²             2 banheiros                   NaN  ...   \n",
       "19696   176 m²             2 banheiros                   NaN  ...   \n",
       "20377   169 m²              1 banheiro                1 vaga  ...   \n",
       "20619   230 m²             4 banheiros               4 vagas  ...   \n",
       "\n",
       "      numberOfSuites FURNISHED AIR_CONDITIONING HOME_OFFICE POOL  GYM SAUNA  \\\n",
       "627              NaN       NaN              NaN         NaN  NaN  NaN   NaN   \n",
       "655              NaN       NaN              NaN         NaN  NaN  NaN   NaN   \n",
       "755              NaN       NaN              NaN         NaN  NaN  NaN   NaN   \n",
       "1738             NaN       NaN              NaN         NaN  NaN  NaN   NaN   \n",
       "2332             NaN       NaN              NaN         NaN  NaN  NaN   NaN   \n",
       "...              ...       ...              ...         ...  ...  ...   ...   \n",
       "19204            NaN       NaN              NaN         NaN  NaN  NaN   NaN   \n",
       "19660            NaN       NaN              NaN         NaN  NaN  NaN   NaN   \n",
       "19696            NaN       NaN              NaN         NaN  NaN  NaN   NaN   \n",
       "20377            NaN       NaN              NaN         NaN  NaN  NaN   NaN   \n",
       "20619            NaN       NaN              NaN         NaN  NaN  NaN   NaN   \n",
       "\n",
       "      LAUNDRY COWORKING  \\\n",
       "627       NaN       NaN   \n",
       "655       NaN       NaN   \n",
       "755       NaN       NaN   \n",
       "1738      NaN       NaN   \n",
       "2332      NaN       NaN   \n",
       "...       ...       ...   \n",
       "19204     NaN       NaN   \n",
       "19660     NaN       NaN   \n",
       "19696     NaN       NaN   \n",
       "20377     NaN       NaN   \n",
       "20619     NaN       NaN   \n",
       "\n",
       "                                                                                                                  link  \n",
       "627       https://www.zapimoveis.com.br/imovel/aluguel-casa-vila-sao-francisco-zona-sul-sao-paulo-180m2-id-2732561794/  \n",
       "655                 https://www.zapimoveis.com.br/imovel/aluguel-casa-vila-gomes-cardim-sao-paulo-500m2-id-2774886476/  \n",
       "755                https://www.zapimoveis.com.br/imovel/aluguel-casa-paraiso-do-morumbi-sao-paulo-200m2-id-2763884729/  \n",
       "1738      https://www.zapimoveis.com.br/imovel/aluguel-casa-com-area-de-servico-tatuape-sao-paulo-120m2-id-2727319668/  \n",
       "2332                    https://www.zapimoveis.com.br/imovel/venda-casa-jardim-paulista-sao-paulo-375m2-id-2777283759/  \n",
       "...                                                                                                                ...  \n",
       "19204  https://www.zapimoveis.com.br/imovel/aluguel-casa-com-administracao-vila-mascote-sao-paulo-300m2-id-2775826735/  \n",
       "19660                        https://www.zapimoveis.com.br/imovel/aluguel-casa-pinheiros-sao-paulo-90m2-id-2734867234/  \n",
       "19696             https://www.zapimoveis.com.br/imovel/aluguel-casa-com-cozinha-tatuape-sao-paulo-176m2-id-2748077358/  \n",
       "20377  https://www.zapimoveis.com.br/imovel/aluguel-casa-com-administracao-vila-mariana-sao-paulo-169m2-id-2775827023/  \n",
       "20619                   https://www.zapimoveis.com.br/imovel/aluguel-sobrados-pinheiros-sao-paulo-230m2-id-2784232825/  \n",
       "\n",
       "[74 rows x 21 columns]"
      ]
     },
     "execution_count": 11,
     "metadata": {},
     "output_type": "execute_result"
    }
   ],
   "source": [
    "df_atts[df_atts.numberOfRooms.isna()]"
   ]
  },
  {
   "cell_type": "markdown",
   "metadata": {},
   "source": [
    "### Removing Null Values\n",
    "<li> if m2 = 0/NA or both rent and sell price are 0/NA, we'll remove the instance\n"
   ]
  },
  {
   "cell_type": "code",
   "execution_count": null,
   "metadata": {},
   "outputs": [],
   "source": [
    "df_atts.shape"
   ]
  },
  {
   "cell_type": "code",
   "execution_count": null,
   "metadata": {},
   "outputs": [],
   "source": [
    "df_atts = df_atts[~df_atts.floorSize.isnull()]\n",
    "\n",
    "df_atts = df_atts[\n",
    "    ~(df_atts.rent_price.isnull()) |\n",
    "    ~(df_atts.sell_price.isnull())\n",
    "    ]"
   ]
  },
  {
   "cell_type": "code",
   "execution_count": null,
   "metadata": {},
   "outputs": [],
   "source": [
    "df_atts.shape"
   ]
  },
  {
   "cell_type": "markdown",
   "metadata": {},
   "source": [
    "### Data Transformation "
   ]
  },
  {
   "cell_type": "markdown",
   "metadata": {},
   "source": [
    "<li> Dtypes\n"
   ]
  },
  {
   "cell_type": "code",
   "execution_count": null,
   "metadata": {},
   "outputs": [],
   "source": [
    "# FLOAT \n",
    "\n",
    "def func(x):\n",
    "    p = re.compile('[\\d\\.\\,\\- ]+')\n",
    "\n",
    "    match = p.search(str(x))\n",
    "\n",
    "    if match:\n",
    "        return match.group(0).replace('.', '')\n",
    "    else:\n",
    "        return x\n",
    "\n",
    "\n",
    "\n",
    "cols_float = ['sell_price', 'rent_price', 'condo_price']\n",
    "\n",
    "df_atts = df_atts.replace({'isento': np.nan,'não informado': np.nan})\n",
    "\n",
    "df_atts[cols_float] = df_atts[cols_float].map(func).replace('.', '')\n",
    "\n",
    "df_atts[cols_float] = df_atts[cols_float].astype(float)\n",
    "      "
   ]
  },
  {
   "cell_type": "markdown",
   "metadata": {},
   "source": [
    "<li> Boolean\n"
   ]
  },
  {
   "cell_type": "code",
   "execution_count": null,
   "metadata": {},
   "outputs": [],
   "source": [
    "\n",
    "cols_bool = ['AIR_CONDITIONING', 'FURNISHED','HOME_OFFICE', 'POOL','GYM', 'LAUNDRY', 'SAUNA', 'COWORKING'] # desired;\n",
    "\n",
    "cols_bool = [col for col in cols_bool if col in df_atts.columns] # ajusted in relation to the dataset;\n",
    "\n",
    "\n",
    "\n",
    "df_atts.loc[:, cols_bool] = df_atts[cols_bool].fillna(0) # 0 represents the unpresence of such property; \n",
    "df_atts.loc[:, cols_bool]= df_atts[cols_bool].replace(to_replace= ('^(?!0).*'), value = 1, regex= True) # all the rest can be replaced by 1 (True)"
   ]
  },
  {
   "cell_type": "markdown",
   "metadata": {},
   "source": [
    "<li> Integer\n"
   ]
  },
  {
   "cell_type": "code",
   "execution_count": null,
   "metadata": {},
   "outputs": [],
   "source": [
    "\n",
    "cols_int = ['floorSize', 'numberOfBathroomsTotal', 'numberOfParkingSpaces', 'numberOfRooms'] + cols_bool\n",
    "df_atts[cols_int] = df_atts[cols_int].map(func)\n",
    "df_atts[cols_int] = df_atts[cols_int].fillna(0).astype(int)"
   ]
  },
  {
   "cell_type": "markdown",
   "metadata": {},
   "source": [
    "### Feature Engineering\n"
   ]
  },
  {
   "cell_type": "code",
   "execution_count": null,
   "metadata": {},
   "outputs": [],
   "source": [
    "def regex_neighbor(x):\n",
    "\n",
    "    match=re.search('(?<=- )[\\w ]+', str(x))\n",
    "    if match:\n",
    "        return match.group()\n",
    "    else:\n",
    "        return x\n",
    "\n",
    "df_atts.loc[:, 'neighborhood'] = df_atts.address.apply(regex_neighbor)\n",
    "df_atts.loc[:, 'numberOfSuites'] = df_atts.numberOfSuites.fillna(0).apply(lambda x: re.search('\\d+', str(x)).group())\n",
    "df_atts['total_rental_price'] = df_atts.condo_price + df_atts.rent_price\n",
    "\n",
    "# to int;\n",
    "df_atts['numberOfSuites'] = df_atts.numberOfSuites.astype(int)"
   ]
  },
  {
   "cell_type": "code",
   "execution_count": null,
   "metadata": {},
   "outputs": [],
   "source": [
    "for index, cols in df_atts.iterrows():\n",
    "    \n",
    "    if not isinstance(cols.address, float):\n",
    "        address = cols.address.split(',')\n",
    "        \n",
    "        n = len(address)\n",
    "\n",
    "        df_atts.loc[index, 'neighborhood']  = regex_neighbor(address[-2])\n",
    "\n",
    "        if n == 3: # means we have street name;\n",
    "\n",
    "            df_atts.loc[index, 'street'] = address[-3]\n",
    "            df_atts.loc[index, 'number'] = address[-2].split('-')[0].strip()\n",
    "\n",
    "  \n",
    "df_atts = df_atts.drop(columns = ['address']) # we can drop; "
   ]
  },
  {
   "cell_type": "code",
   "execution_count": null,
   "metadata": {},
   "outputs": [],
   "source": [
    "df_atts.dtypes"
   ]
  },
  {
   "cell_type": "markdown",
   "metadata": {},
   "source": [
    "### Data Cleaning"
   ]
  },
  {
   "cell_type": "code",
   "execution_count": null,
   "metadata": {},
   "outputs": [],
   "source": [
    "df_atts.loc[:, 'rstate_type'] = df_atts.rstate_type.str[:-1]  # removing '/' at final of each string;\n"
   ]
  },
  {
   "cell_type": "code",
   "execution_count": null,
   "metadata": {},
   "outputs": [],
   "source": [
    "\n",
    "\n",
    "cols_reord = [\n",
    "             'data-id', 'rstate_type', 'ad_type',\n",
    "             'rent_price',  'sell_price',  'condo_price', 'total_rental_price', 'floorSize',\n",
    "             'neighborhood', 'street', 'number'] + cols_bool + \\\n",
    "            ['numberOfRooms', 'numberOfSuites', 'numberOfBathroomsTotal', 'numberOfParkingSpaces', 'link']\n",
    "\n",
    "df_atts = df_atts[cols_reord]\n"
   ]
  },
  {
   "cell_type": "code",
   "execution_count": null,
   "metadata": {},
   "outputs": [],
   "source": [
    "renamed_cols = {'data-id': 'id', \n",
    "                'rstate_type': 'kind', 'ad_type': 'rent_or_selling', \n",
    "                'rent_price':'price_rent', 'sell_price': 'price_sale', 'condo_price': 'price_condominium', 'total_rental_price': 'rent_plus_condo', \n",
    "                'floorSize': 'floor_size', 'number': 'address_number',  \n",
    "                'AIR_CONDITIONING': 'air_conditioning', 'FURNISHED': 'furnished', 'HOME_OFFICE': 'home_office', \n",
    "                \"POOL\": 'pool', \"GYM\": 'gym', \"LAUNDRY\": 'laundry', 'SAUNA': 'sauna',\n",
    "                'numberOfRooms': 'rooms', 'numberOfSuites': 'suites', 'numberOfBathroomsTotal': 'bathrooms', 'numberOfParkingSpaces': 'parking'}\n",
    "\n",
    "\n",
    "df_atts = df_atts.rename(columns = renamed_cols)"
   ]
  },
  {
   "cell_type": "code",
   "execution_count": null,
   "metadata": {},
   "outputs": [],
   "source": [
    "df_atts.head(2)"
   ]
  },
  {
   "cell_type": "markdown",
   "metadata": {},
   "source": [
    "### Validating Duplicated Listing"
   ]
  },
  {
   "cell_type": "code",
   "execution_count": null,
   "metadata": {},
   "outputs": [],
   "source": [
    "# Needed because the same house can be listed by different real estate agencies\n",
    "\n",
    "columns = list(df_atts.columns)\n",
    "for i in ['id', 'link']:\n",
    "    columns.remove(i)\n",
    "\n",
    "print(f'Number of duplicated listing based on REstate properties: {df_atts.duplicated(subset= columns).sum()}')"
   ]
  },
  {
   "cell_type": "code",
   "execution_count": null,
   "metadata": {},
   "outputs": [],
   "source": [
    "df_atts = df_atts.drop_duplicates(subset=columns)\n",
    "\n",
    "df_atts.shape"
   ]
  },
  {
   "cell_type": "markdown",
   "metadata": {},
   "source": [
    "### Estatistical Cleaning"
   ]
  },
  {
   "cell_type": "markdown",
   "metadata": {},
   "source": [
    "<li> outliers"
   ]
  },
  {
   "cell_type": "code",
   "execution_count": null,
   "metadata": {},
   "outputs": [],
   "source": [
    "df_atts_sell = df_atts[~df_atts.price_sale.isna()]\n",
    "df_atts_rent = df_atts[~df_atts.price_rent.isna()]  # as some adtype listed as \"For Sale\" may contain the price and be able to rent, we can use .isna()"
   ]
  },
  {
   "cell_type": "code",
   "execution_count": null,
   "metadata": {},
   "outputs": [],
   "source": [
    "def plot_box_plot(df, sell_or_rent):\n",
    "\n",
    "    if sell_or_rent == 'rent':\n",
    "        box_data = df.price_rent / df.floor_size\n",
    "\n",
    "    elif sell_or_rent == 'sell':\n",
    "        box_data = df.price_sale / df.floor_size\n",
    "    \n",
    "    else:\n",
    "        raise NameError\n",
    "\n",
    "    Q1 = np.percentile(box_data, 25)\n",
    "    Q3 = np.percentile(box_data, 75)\n",
    "    IQR = Q3 - Q1\n",
    "\n",
    "    u_bound = Q3 + 1.5*IQR\n",
    "    l_bound = Q1 - 1.5*IQR\n",
    "\n",
    "    return {'u_bound': u_bound, 'l_bound': l_bound}"
   ]
  },
  {
   "cell_type": "code",
   "execution_count": null,
   "metadata": {},
   "outputs": [],
   "source": [
    "# IQR to remove outliers based on price/floor_size\n",
    "\n",
    "rent_bounds = plot_box_plot(df_atts_rent, 'rent')\n",
    "df_atts_rent_adjusted = df_atts_rent[\n",
    "    ((df_atts_rent.price_rent / df_atts_rent.floor_size) < rent_bounds.get('u_bound')) &\n",
    "   ( (df_atts_rent.price_rent / df_atts_rent.floor_size) > rent_bounds.get('l_bound') )\n",
    "]\n",
    "\n",
    "sale_bounds = plot_box_plot(df_atts_sell, 'sell')\n",
    "df_atts_sale_adjusted = df_atts_sell[\n",
    "    ((df_atts_sell.price_rent / df_atts_sell.floor_size) < sale_bounds.get('u_bound')) &\n",
    "   ( (df_atts_sell.price_rent / df_atts_sell.floor_size) > sale_bounds.get('l_bound') )\n",
    "]\n"
   ]
  },
  {
   "cell_type": "code",
   "execution_count": null,
   "metadata": {},
   "outputs": [],
   "source": [
    "# making a new index to slice the original dataframe;\n",
    "new_index = np.concatenate((df_atts_rent_adjusted.index,df_atts_sale_adjusted.index))\n",
    "new_index = list(set(new_index))\n",
    "\n",
    "df_atts = df_atts.loc[new_index, :]"
   ]
  },
  {
   "cell_type": "code",
   "execution_count": null,
   "metadata": {},
   "outputs": [],
   "source": [
    "df_atts"
   ]
  },
  {
   "cell_type": "code",
   "execution_count": null,
   "metadata": {},
   "outputs": [],
   "source": [
    "hld"
   ]
  },
  {
   "cell_type": "markdown",
   "metadata": {},
   "source": [
    "### Postgres Ingestion;\n"
   ]
  },
  {
   "cell_type": "code",
   "execution_count": null,
   "metadata": {},
   "outputs": [],
   "source": [
    "# db credentials come from the file app.properties\n",
    "\n",
    "uri = p.get('uri').data\n",
    "engine = create_engine(uri)\n",
    "\n",
    "with engine.connect() as con:\n",
    "    con.execute(text(\"CREATE SCHEMA if not exists zap\"))\n",
    "    con.commit()"
   ]
  },
  {
   "cell_type": "code",
   "execution_count": null,
   "metadata": {},
   "outputs": [],
   "source": [
    "# drop views to update silver table; \n",
    "with engine.connect() as conn:\n",
    "    views_list = conn.execute(\n",
    "    text(\"\"\"select table_name \n",
    "            from information_schema.views\n",
    "            where table_schema = 'zap' \"\"\")).fetchall() # getting the view's name that exists;\n",
    "\n",
    "\n",
    "    for view in views_list:  # dropping them because it's needed;\n",
    "        conn.execute(text(f\"DROP VIEW zap.{view[0]}\"))\n",
    "        conn.commit() \n",
    "\n",
    "\n",
    "df_atts.to_sql('silver_zapimoveis', schema='zap', # now its gonna work;\n",
    "    con = uri, if_exists='replace', index = False, \n",
    "    dtype={'price_rent': Numeric, 'price_sale': Numeric, 'price_condominium': Numeric, 'rent_plus_condo': Numeric})\n"
   ]
  },
  {
   "cell_type": "code",
   "execution_count": null,
   "metadata": {},
   "outputs": [],
   "source": [
    "### call run dbt;\n",
    "subprocess.run(\"dbt run\", shell=True)"
   ]
  },
  {
   "cell_type": "markdown",
   "metadata": {},
   "source": [
    "### END"
   ]
  }
 ],
 "metadata": {
  "kernelspec": {
   "display_name": "zap",
   "language": "python",
   "name": "python3"
  },
  "language_info": {
   "codemirror_mode": {
    "name": "ipython",
    "version": 3
   },
   "file_extension": ".py",
   "mimetype": "text/x-python",
   "name": "python",
   "nbconvert_exporter": "python",
   "pygments_lexer": "ipython3",
   "version": "3.10.0"
  }
 },
 "nbformat": 4,
 "nbformat_minor": 2
}
